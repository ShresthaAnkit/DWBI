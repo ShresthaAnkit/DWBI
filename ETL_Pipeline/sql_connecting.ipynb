{
 "cells": [
  {
   "cell_type": "code",
   "execution_count": 7,
   "metadata": {},
   "outputs": [],
   "source": [
    "import mysql.connector\n",
    "import pandas as pd"
   ]
  },
  {
   "cell_type": "code",
   "execution_count": 8,
   "metadata": {},
   "outputs": [
    {
     "name": "stdout",
     "output_type": "stream",
     "text": [
      "Connected to MySQL!\n"
     ]
    }
   ],
   "source": [
    "conn = mysql.connector.connect(\n",
    "    host=\"127.0.0.1\",\n",
    "    user=\"root\",\n",
    "    password=\"12345678\",\n",
    "    database=\"DWBI\"\n",
    ")\n",
    "cursor = conn.cursor()\n",
    "#conn.autocommit = True\n",
    "print(\"Connected to MySQL!\")"
   ]
  },
  {
   "cell_type": "code",
   "execution_count": 45,
   "metadata": {},
   "outputs": [],
   "source": [
    "create_products_table = \"\"\"\n",
    "CREATE TABLE IF NOT EXISTS products (\n",
    "    product_id INT AUTO_INCREMENT PRIMARY KEY,\n",
    "    product_name VARCHAR(255) NOT NULL\n",
    ");\n",
    "\"\"\"\n",
    "\n",
    "create_customers_table = \"\"\"\n",
    "CREATE TABLE IF NOT EXISTS customers (\n",
    "    customer_id INT AUTO_INCREMENT PRIMARY KEY,\n",
    "    customer_name VARCHAR(255) NOT NULL\n",
    ");\n",
    "\"\"\"\n",
    "\n",
    "create_sales_table = \"\"\"\n",
    "CREATE TABLE IF NOT EXISTS sales (\n",
    "    sales_id INT AUTO_INCREMENT PRIMARY KEY,\n",
    "    product_id INT NOT NULL,\n",
    "    customer_id INT NOT NULL,\n",
    "    sales_amount DECIMAL(10, 2) NOT NULL,\n",
    "    qty INT NOT NULL,\n",
    "    FOREIGN KEY (product_id) REFERENCES products(product_id),\n",
    "    FOREIGN KEY (customer_id) REFERENCES customers(customer_id)\n",
    ");\n",
    "\"\"\""
   ]
  },
  {
   "cell_type": "code",
   "execution_count": 46,
   "metadata": {},
   "outputs": [
    {
     "name": "stdout",
     "output_type": "stream",
     "text": [
      "Tables created successfully!\n"
     ]
    }
   ],
   "source": [
    "# Execute SQL Statements\n",
    "try:\n",
    "    cursor.execute(create_products_table)\n",
    "    cursor.execute(create_customers_table)\n",
    "    cursor.execute(create_sales_table)\n",
    "    conn.commit()\n",
    "    print(\"Tables created successfully!\")\n",
    "except mysql.connector.Error as err:\n",
    "    print(f\"Error: {err}\")"
   ]
  },
  {
   "cell_type": "code",
   "execution_count": 65,
   "metadata": {},
   "outputs": [],
   "source": [
    "# SQL to Insert Data\n",
    "# Populate `products` table\n",
    "insert_products = \"\"\"\n",
    "INSERT INTO products (product_name)\n",
    "VALUES\n",
    "    ('Laptop'),\n",
    "    ('Smartphone'),\n",
    "    ('Headphones'),\n",
    "    ('Tablet'),\n",
    "    ('Smartwatch');\n",
    "\"\"\"\n",
    "\n",
    "# Populate `customers` table\n",
    "insert_customers = \"\"\"\n",
    "INSERT INTO customers (customer_name)\n",
    "VALUES\n",
    "    ('Alice'),\n",
    "    ('Bob'),\n",
    "    ('Charlie'),\n",
    "    ('David'),\n",
    "    ('Emma');\n",
    "\"\"\"\n",
    "\n",
    "# Populate `sales` table\n",
    "insert_sales = \"\"\"\n",
    "INSERT INTO sales (product_id, customer_id, sales_amount, qty)\n",
    "VALUES\n",
    "    (1, 1, 1200.50,1),  -- Laptop purchased by Alice\n",
    "    (2, 2, 800.00, 1),   -- Smartphone purchased by Bob\n",
    "    (3, 3, 150.75, 1),   -- Headphones purchased by Charlie\n",
    "    (4, 4, 300.00, 1),   -- Tablet purchased by David\n",
    "    (5, 5, 200.25, 1);   -- Smartwatch purchased by Emma\n",
    "\"\"\""
   ]
  },
  {
   "cell_type": "code",
   "execution_count": 48,
   "metadata": {},
   "outputs": [],
   "source": [
    "cursor.execute(insert_products)\n",
    "conn.commit()"
   ]
  },
  {
   "cell_type": "code",
   "execution_count": 55,
   "metadata": {},
   "outputs": [],
   "source": [
    "cursor.execute(insert_customers)\n",
    "conn.commit()"
   ]
  },
  {
   "cell_type": "code",
   "execution_count": 73,
   "metadata": {},
   "outputs": [],
   "source": [
    "cursor.execute(insert_sales)"
   ]
  },
  {
   "cell_type": "code",
   "execution_count": 9,
   "metadata": {},
   "outputs": [
    {
     "data": {
      "text/plain": [
       "[(1, 'Laptop'),\n",
       " (2, 'Smartphone'),\n",
       " (3, 'Headphones'),\n",
       " (4, 'Tablet'),\n",
       " (5, 'Smartwatch')]"
      ]
     },
     "execution_count": 9,
     "metadata": {},
     "output_type": "execute_result"
    }
   ],
   "source": [
    "get_products = \"\"\"\n",
    "SELECT * FROM products;\n",
    "\"\"\"\n",
    "cursor.execute(get_products)\n",
    "cursor.fetchall()"
   ]
  },
  {
   "cell_type": "code",
   "execution_count": 6,
   "metadata": {},
   "outputs": [
    {
     "data": {
      "text/plain": [
       "[(1, 'Alice'), (2, 'Bob'), (3, 'Charlie'), (4, 'David'), (5, 'Emma')]"
      ]
     },
     "execution_count": 6,
     "metadata": {},
     "output_type": "execute_result"
    }
   ],
   "source": [
    "get_customers = \"\"\"\n",
    "SELECT * FROM customers\n",
    "\"\"\"\n",
    "cursor.execute(get_customers)\n",
    "cursor.fetchall()\n"
   ]
  },
  {
   "cell_type": "code",
   "execution_count": 10,
   "metadata": {},
   "outputs": [
    {
     "name": "stderr",
     "output_type": "stream",
     "text": [
      "C:\\Users\\Ankit\\AppData\\Local\\Temp\\ipykernel_3812\\3687449487.py:2: UserWarning: pandas only supports SQLAlchemy connectable (engine/connection) or database string URI or sqlite3 DBAPI2 connection. Other DBAPI2 objects are not tested. Please consider using SQLAlchemy.\n",
      "  df = pd.read_sql(get_products, conn)\n"
     ]
    }
   ],
   "source": [
    "try:\n",
    "    df = pd.read_sql(get_products, conn)\n",
    "except (TypeError, ValueError) as e:  # Use parentheses for multiple exceptions\n",
    "    print(f\"Error occurred: {e}\")"
   ]
  },
  {
   "cell_type": "code",
   "execution_count": 11,
   "metadata": {},
   "outputs": [
    {
     "data": {
      "text/html": [
       "<div>\n",
       "<style scoped>\n",
       "    .dataframe tbody tr th:only-of-type {\n",
       "        vertical-align: middle;\n",
       "    }\n",
       "\n",
       "    .dataframe tbody tr th {\n",
       "        vertical-align: top;\n",
       "    }\n",
       "\n",
       "    .dataframe thead th {\n",
       "        text-align: right;\n",
       "    }\n",
       "</style>\n",
       "<table border=\"1\" class=\"dataframe\">\n",
       "  <thead>\n",
       "    <tr style=\"text-align: right;\">\n",
       "      <th></th>\n",
       "      <th>product_id</th>\n",
       "      <th>product_name</th>\n",
       "    </tr>\n",
       "  </thead>\n",
       "  <tbody>\n",
       "    <tr>\n",
       "      <th>0</th>\n",
       "      <td>1</td>\n",
       "      <td>Laptop</td>\n",
       "    </tr>\n",
       "    <tr>\n",
       "      <th>1</th>\n",
       "      <td>2</td>\n",
       "      <td>Smartphone</td>\n",
       "    </tr>\n",
       "    <tr>\n",
       "      <th>2</th>\n",
       "      <td>3</td>\n",
       "      <td>Headphones</td>\n",
       "    </tr>\n",
       "    <tr>\n",
       "      <th>3</th>\n",
       "      <td>4</td>\n",
       "      <td>Tablet</td>\n",
       "    </tr>\n",
       "    <tr>\n",
       "      <th>4</th>\n",
       "      <td>5</td>\n",
       "      <td>Smartwatch</td>\n",
       "    </tr>\n",
       "  </tbody>\n",
       "</table>\n",
       "</div>"
      ],
      "text/plain": [
       "   product_id product_name\n",
       "0           1       Laptop\n",
       "1           2   Smartphone\n",
       "2           3   Headphones\n",
       "3           4       Tablet\n",
       "4           5   Smartwatch"
      ]
     },
     "execution_count": 11,
     "metadata": {},
     "output_type": "execute_result"
    }
   ],
   "source": [
    "df.head()"
   ]
  },
  {
   "cell_type": "code",
   "execution_count": 77,
   "metadata": {},
   "outputs": [
    {
     "data": {
      "text/plain": [
       "[(21, 1, 1, Decimal('1200.50'), 1),\n",
       " (22, 2, 2, Decimal('800.00'), 1),\n",
       " (23, 3, 3, Decimal('150.75'), 1),\n",
       " (24, 4, 4, Decimal('300.00'), 1),\n",
       " (25, 5, 5, Decimal('200.25'), 1)]"
      ]
     },
     "execution_count": 77,
     "metadata": {},
     "output_type": "execute_result"
    }
   ],
   "source": [
    "get_sales = \"\"\"\n",
    "SELECT * FROM sales;\n",
    "\"\"\"\n",
    "cursor.execute(get_sales)\n",
    "cursor.fetchall()"
   ]
  },
  {
   "cell_type": "code",
   "execution_count": 75,
   "metadata": {},
   "outputs": [],
   "source": [
    "cursor.close()\n",
    "conn.close()"
   ]
  },
  {
   "cell_type": "code",
   "execution_count": null,
   "metadata": {},
   "outputs": [],
   "source": []
  }
 ],
 "metadata": {
  "kernelspec": {
   "display_name": "Python 3",
   "language": "python",
   "name": "python3"
  },
  "language_info": {
   "codemirror_mode": {
    "name": "ipython",
    "version": 3
   },
   "file_extension": ".py",
   "mimetype": "text/x-python",
   "name": "python",
   "nbconvert_exporter": "python",
   "pygments_lexer": "ipython3",
   "version": "3.11.2"
  }
 },
 "nbformat": 4,
 "nbformat_minor": 2
}
